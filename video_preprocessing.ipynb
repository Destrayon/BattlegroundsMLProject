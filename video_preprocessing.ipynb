{
 "cells": [
  {
   "cell_type": "code",
   "execution_count": 2,
   "metadata": {},
   "outputs": [
    {
     "name": "stderr",
     "output_type": "stream",
     "text": [
      "Processing videos: 100%|██████████| 1/1 [07:38<00:00, 458.21s/it]"
     ]
    },
    {
     "name": "stdout",
     "output_type": "stream",
     "text": [
      "Processing complete. Check the output directory for the segmented videos and JSON files.\n"
     ]
    },
    {
     "name": "stderr",
     "output_type": "stream",
     "text": [
      "\n"
     ]
    }
   ],
   "source": [
    "import os\n",
    "import json\n",
    "import cv2\n",
    "import numpy as np\n",
    "from tqdm import tqdm\n",
    "\n",
    "def scale_mouse_position(x, y, original_width, original_height, new_width=128, new_height=128):\n",
    "    scaled_x = (x / original_width) * new_width\n",
    "    scaled_y = (y / original_height) * new_height\n",
    "    return scaled_x, scaled_y\n",
    "\n",
    "def get_next_clip_number(output_dir, base_filename):\n",
    "    existing_clips = [f for f in os.listdir(output_dir) if f.startswith(base_filename) and f.endswith('.mp4')]\n",
    "    return len(existing_clips) + 1\n",
    "\n",
    "def process_and_save_videos(input_video_dir, input_json_dir, output_dir, sequence_length=128):\n",
    "    if not os.path.exists(output_dir):\n",
    "        os.makedirs(output_dir)\n",
    "\n",
    "    video_files = [f for f in os.listdir(input_video_dir) if f.endswith('.mp4')]\n",
    "    \n",
    "    for video_file in tqdm(video_files, desc=\"Processing videos\"):\n",
    "        video_path = os.path.join(input_video_dir, video_file)\n",
    "        json_path = os.path.join(input_json_dir, os.path.splitext(video_file)[0] + '_input.json')\n",
    "        \n",
    "        # Open video file\n",
    "        cap = cv2.VideoCapture(video_path)\n",
    "        if not cap.isOpened():\n",
    "            print(f\"Error opening video file {video_file}\")\n",
    "            continue\n",
    "\n",
    "        frame_count = int(cap.get(cv2.CAP_PROP_FRAME_COUNT))\n",
    "        fps = int(cap.get(cv2.CAP_PROP_FPS))\n",
    "        original_width = int(cap.get(cv2.CAP_PROP_FRAME_WIDTH))\n",
    "        original_height = int(cap.get(cv2.CAP_PROP_FRAME_HEIGHT))\n",
    "        \n",
    "        # Load JSON data\n",
    "        try:\n",
    "            with open(json_path, 'r') as f:\n",
    "                json_data = json.load(f)\n",
    "        except FileNotFoundError:\n",
    "            print(f\"JSON file not found for {video_file}\")\n",
    "            continue\n",
    "        except json.JSONDecodeError:\n",
    "            print(f\"Error decoding JSON for {video_file}\")\n",
    "            continue\n",
    "\n",
    "        base_filename = os.path.splitext(video_file)[0]\n",
    "        clip_number = get_next_clip_number(output_dir, base_filename)\n",
    "\n",
    "        # Process video in segments\n",
    "        for start_frame in range(0, frame_count, sequence_length):\n",
    "            end_frame = min(start_frame + sequence_length, frame_count)\n",
    "            \n",
    "            # Extract video segment\n",
    "            cap.set(cv2.CAP_PROP_POS_FRAMES, start_frame)\n",
    "            \n",
    "            output_video_path = os.path.join(output_dir, f\"{base_filename}_clip{clip_number:06d}.mp4\")\n",
    "            out = cv2.VideoWriter(output_video_path, cv2.VideoWriter_fourcc(*'mp4v'), fps, (128, 128))\n",
    "            \n",
    "            segment_frame_count = 0\n",
    "            for _ in range(start_frame, end_frame):\n",
    "                ret, frame = cap.read()\n",
    "                if not ret:\n",
    "                    break\n",
    "                frame = cv2.resize(frame, (128, 128))\n",
    "                out.write(frame)\n",
    "                segment_frame_count += 1\n",
    "            \n",
    "            out.release()\n",
    "            \n",
    "            # Check if the video segment was written successfully\n",
    "            if segment_frame_count == 0:\n",
    "                print(f\"Error: No frames written for clip {clip_number} in {video_file}\")\n",
    "                continue\n",
    "\n",
    "            # Extract and save corresponding JSON segment with scaled mouse positions\n",
    "            json_segment = json_data[start_frame:start_frame+segment_frame_count]\n",
    "            for frame_data in json_segment:\n",
    "                x, y = frame_data['mouse_position']\n",
    "                frame_data['mouse_position'] = list(scale_mouse_position(x, y, original_width, original_height))\n",
    "\n",
    "            output_json_path = os.path.join(output_dir, f\"{base_filename}_clip{clip_number:06d}_input.json\")\n",
    "            with open(output_json_path, 'w') as f:\n",
    "                json.dump(json_segment, f)\n",
    "            \n",
    "            clip_number += 1\n",
    "        \n",
    "        cap.release()\n",
    "\n",
    "# Usage\n",
    "input_video_directory = 'Videos'\n",
    "input_json_directory = 'Videos'\n",
    "output_directory = 'output'\n",
    "\n",
    "process_and_save_videos(input_video_directory, input_json_directory, output_directory)\n",
    "\n",
    "print(\"Processing complete. Check the output directory for the segmented videos and JSON files.\")"
   ]
  }
 ],
 "metadata": {
  "kernelspec": {
   "display_name": ".venv",
   "language": "python",
   "name": "python3"
  },
  "language_info": {
   "codemirror_mode": {
    "name": "ipython",
    "version": 3
   },
   "file_extension": ".py",
   "mimetype": "text/x-python",
   "name": "python",
   "nbconvert_exporter": "python",
   "pygments_lexer": "ipython3",
   "version": "3.11.3"
  }
 },
 "nbformat": 4,
 "nbformat_minor": 2
}
